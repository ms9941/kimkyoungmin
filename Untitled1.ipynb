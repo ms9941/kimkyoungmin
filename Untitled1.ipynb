{
  "nbformat": 4,
  "nbformat_minor": 0,
  "metadata": {
    "colab": {
      "name": "Untitled1.ipynb",
      "provenance": [],
      "collapsed_sections": [],
      "authorship_tag": "ABX9TyMzbOk9DOaS/oFWnv5y/Djh",
      "include_colab_link": true
    },
    "kernelspec": {
      "name": "python3",
      "display_name": "Python 3"
    }
  },
  "cells": [
    {
      "cell_type": "markdown",
      "metadata": {
        "id": "view-in-github",
        "colab_type": "text"
      },
      "source": [
        "<a href=\"https://colab.research.google.com/github/ms9941/ms9941/blob/master/Untitled1.ipynb\" target=\"_parent\"><img src=\"https://colab.research.google.com/assets/colab-badge.svg\" alt=\"Open In Colab\"/></a>"
      ]
    },
    {
      "cell_type": "code",
      "metadata": {
        "id": "G1HdFsQf4mNi",
        "colab_type": "code",
        "colab": {}
      },
      "source": [
        ""
      ],
      "execution_count": 0,
      "outputs": []
    },
    {
      "cell_type": "markdown",
      "metadata": {
        "id": "H7jbPmbW4nX-",
        "colab_type": "text"
      },
      "source": [
        "#**인공지능 사관학교 프리코스 과제 목차**\n",
        "__1주차 과제(2020-05-28)__\n",
        "#1.[파파고(언어)](https://papago.naver.com/)\n",
        "![Alt text](https://papago.naver.com/static/img/papago_og.png)\n",
        "#2.[기가지니2(음성)](https://shop.kt.com/)\n",
        "![Alt text](http://static1.e-himart.co.kr/contents/goods/00/02/60/52/72/0002605272__GENIE_2__M_450_450.jpg)\n",
        "#3.[아이폰 페이스아이디(이미지)](https://www.apple.com/kr/)\n",
        "![Alt text](https://blogfiles.pstatic.net/MjAyMDA1MDZfNDkg/MDAxNTg4Njk4NjQ1Mjcw.-zdCnCwso7q2QO2nWfIJqojBArTYhgyEMnao4A3FSJMg.OHFyP-W9bByWGeTZrzGD5LUSPJK9NgETfXUuo3BxJ_gg.JPEG.carepad/5.jpg)\n",
        "#4.[볼보 자동주차(자동주행)](https://www.volvocars.com/kr)\n",
        "![Alt text](https://assets.volvocars.com/images/support/img0bc2faaa345b5d80c0a801522cbe1d02_2_--_--_VOICEpnghigh.png)"
      ]
    }
  ]
}